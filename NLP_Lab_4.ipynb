{
  "nbformat": 4,
  "nbformat_minor": 0,
  "metadata": {
    "colab": {
      "provenance": []
    },
    "kernelspec": {
      "name": "python3",
      "display_name": "Python 3"
    },
    "language_info": {
      "name": "python"
    }
  },
  "cells": [
    {
      "cell_type": "markdown",
      "source": [
        "#Word Sense Disambiguation (WSD)\n"
      ],
      "metadata": {
        "id": "roP6B-9gEO8N"
      }
    },
    {
      "cell_type": "code",
      "execution_count": null,
      "metadata": {
        "id": "TZRbdke56ms_"
      },
      "outputs": [],
      "source": [
        "import nltk\n",
        "from nltk.corpus import wordnet as wn\n",
        "from nltk.tokenize import word_tokenize\n",
        "from nltk import pos_tag"
      ]
    },
    {
      "cell_type": "markdown",
      "source": [
        "* Collect a small corpus of example sentences of varying lengths from any newspaper or\n",
        "magazine. Using WordNet or any standard dictionary, determine how many senses there are for\n",
        "each of the open-class words in each sentence."
      ],
      "metadata": {
        "id": "T4slvGLf8nKM"
      }
    },
    {
      "cell_type": "code",
      "source": [
        "# Download required NLTK data\n",
        "nltk.download('punkt')\n",
        "nltk.download('averaged_perceptron_tagger')\n",
        "nltk.download('wordnet')\n",
        "nltk.download('omw-1.4')\n",
        "\n",
        "# Sample sentences from a newspaper/magazine\n",
        "sentences = [\n",
        "    \"The stock market closed higher today.\",\n",
        "    \"The president announced new policies during the press conference.\",\n",
        "    \"Investors are optimistic about the company's future performance.\",\n",
        "    \"The weather was unusually warm for this time of year.\",\n",
        "    \"He quickly adapted to the fast-paced environment.\"\n",
        "]\n",
        "\n",
        "def get_wordnet_pos(treebank_tag):\n",
        "    \"\"\"Convert POS tag to WordNet POS tag.\"\"\"\n",
        "    if treebank_tag.startswith('J'):\n",
        "        return wn.ADJ\n",
        "    elif treebank_tag.startswith('V'):\n",
        "        return wn.VERB\n",
        "    elif treebank_tag.startswith('N'):\n",
        "        return wn.NOUN\n",
        "    elif treebank_tag.startswith('R'):\n",
        "        return wn.ADV\n",
        "    else:\n",
        "        return None\n",
        "\n",
        "def analyze_sentence(sentence):\n",
        "    # Tokenize the sentence\n",
        "    tokens = word_tokenize(sentence)\n",
        "\n",
        "    # Tag the tokens with POS tags\n",
        "    tagged_tokens = pos_tag(tokens)\n",
        "\n",
        "    # Analyze each token\n",
        "    for word, tag in tagged_tokens:\n",
        "        wn_tag = get_wordnet_pos(tag)\n",
        "        if wn_tag:  # If it's an open-class word\n",
        "            senses = wn.synsets(word, pos=wn_tag)\n",
        "            print(f\"Word: '{word}' | POS: {tag} | Senses: {len(senses)}\")\n",
        "        else:\n",
        "            print(f\"Word: '{word}' | POS: {tag} | Not an open-class word\")\n",
        "\n",
        "# Analyze each sentence\n",
        "for sentence in sentences:\n",
        "    print(f\"Sentence: '{sentence}'\")\n",
        "    analyze_sentence(sentence)\n",
        "    print(\"\\n\" + \"-\"*50 + \"\\n\")\n"
      ],
      "metadata": {
        "colab": {
          "base_uri": "https://localhost:8080/"
        },
        "id": "2rC9hhwj7qkR",
        "outputId": "a8f3cc43-44c9-445a-c951-8fe0812c1993"
      },
      "execution_count": null,
      "outputs": [
        {
          "output_type": "stream",
          "name": "stderr",
          "text": [
            "[nltk_data] Downloading package punkt to /root/nltk_data...\n",
            "[nltk_data]   Unzipping tokenizers/punkt.zip.\n",
            "[nltk_data] Downloading package averaged_perceptron_tagger to\n",
            "[nltk_data]     /root/nltk_data...\n",
            "[nltk_data]   Unzipping taggers/averaged_perceptron_tagger.zip.\n",
            "[nltk_data] Downloading package wordnet to /root/nltk_data...\n",
            "[nltk_data] Downloading package omw-1.4 to /root/nltk_data...\n"
          ]
        },
        {
          "output_type": "stream",
          "name": "stdout",
          "text": [
            "Sentence: 'The stock market closed higher today.'\n",
            "Word: 'The' | POS: DT | Not an open-class word\n",
            "Word: 'stock' | POS: NN | Senses: 17\n",
            "Word: 'market' | POS: NN | Senses: 5\n",
            "Word: 'closed' | POS: VBD | Senses: 17\n",
            "Word: 'higher' | POS: JJR | Senses: 9\n",
            "Word: 'today' | POS: NN | Senses: 2\n",
            "Word: '.' | POS: . | Not an open-class word\n",
            "\n",
            "--------------------------------------------------\n",
            "\n",
            "Sentence: 'The president announced new policies during the press conference.'\n",
            "Word: 'The' | POS: DT | Not an open-class word\n",
            "Word: 'president' | POS: NN | Senses: 6\n",
            "Word: 'announced' | POS: VBD | Senses: 4\n",
            "Word: 'new' | POS: JJ | Senses: 11\n",
            "Word: 'policies' | POS: NNS | Senses: 3\n",
            "Word: 'during' | POS: IN | Not an open-class word\n",
            "Word: 'the' | POS: DT | Not an open-class word\n",
            "Word: 'press' | POS: NN | Senses: 9\n",
            "Word: 'conference' | POS: NN | Senses: 3\n",
            "Word: '.' | POS: . | Not an open-class word\n",
            "\n",
            "--------------------------------------------------\n",
            "\n",
            "Sentence: 'Investors are optimistic about the company's future performance.'\n",
            "Word: 'Investors' | POS: NNS | Senses: 1\n",
            "Word: 'are' | POS: VBP | Senses: 13\n",
            "Word: 'optimistic' | POS: JJ | Senses: 2\n",
            "Word: 'about' | POS: IN | Not an open-class word\n",
            "Word: 'the' | POS: DT | Not an open-class word\n",
            "Word: 'company' | POS: NN | Senses: 9\n",
            "Word: ''s' | POS: POS | Not an open-class word\n",
            "Word: 'future' | POS: JJ | Senses: 4\n",
            "Word: 'performance' | POS: NN | Senses: 5\n",
            "Word: '.' | POS: . | Not an open-class word\n",
            "\n",
            "--------------------------------------------------\n",
            "\n",
            "Sentence: 'The weather was unusually warm for this time of year.'\n",
            "Word: 'The' | POS: DT | Not an open-class word\n",
            "Word: 'weather' | POS: NN | Senses: 1\n",
            "Word: 'was' | POS: VBD | Senses: 13\n",
            "Word: 'unusually' | POS: RB | Senses: 1\n",
            "Word: 'warm' | POS: JJ | Senses: 10\n",
            "Word: 'for' | POS: IN | Not an open-class word\n",
            "Word: 'this' | POS: DT | Not an open-class word\n",
            "Word: 'time' | POS: NN | Senses: 10\n",
            "Word: 'of' | POS: IN | Not an open-class word\n",
            "Word: 'year' | POS: NN | Senses: 4\n",
            "Word: '.' | POS: . | Not an open-class word\n",
            "\n",
            "--------------------------------------------------\n",
            "\n",
            "Sentence: 'He quickly adapted to the fast-paced environment.'\n",
            "Word: 'He' | POS: PRP | Not an open-class word\n",
            "Word: 'quickly' | POS: RB | Senses: 3\n",
            "Word: 'adapted' | POS: VBD | Senses: 2\n",
            "Word: 'to' | POS: TO | Not an open-class word\n",
            "Word: 'the' | POS: DT | Not an open-class word\n",
            "Word: 'fast-paced' | POS: JJ | Senses: 1\n",
            "Word: 'environment' | POS: NN | Senses: 2\n",
            "Word: '.' | POS: . | Not an open-class word\n",
            "\n",
            "--------------------------------------------------\n",
            "\n"
          ]
        }
      ]
    },
    {
      "cell_type": "markdown",
      "source": [
        "* Implement Lesk algorithm for Word Sense Disambiguation (WSD)"
      ],
      "metadata": {
        "id": "T079ThZ38jXj"
      }
    },
    {
      "cell_type": "code",
      "source": [
        "def get_wordnet_pos(treebank_tag):\n",
        "    \"\"\"Convert POS tag to WordNet POS tag.\"\"\"\n",
        "    if treebank_tag.startswith('J'):\n",
        "        return wn.ADJ\n",
        "    elif treebank_tag.startswith('V'):\n",
        "        return wn.VERB\n",
        "    elif treebank_tag.startswith('N'):\n",
        "        return wn.NOUN\n",
        "    elif treebank_tag.startswith('R'):\n",
        "        return wn.ADV\n",
        "    else:\n",
        "        return None\n",
        "\n",
        "def lesk_algorithm(word, sentence):\n",
        "    \"\"\"Apply the Lesk algorithm to find the best sense of a word in a given context.\"\"\"\n",
        "    best_sense = None\n",
        "    max_overlap = 0\n",
        "    context = set(word_tokenize(sentence))\n",
        "\n",
        "    for sense in wn.synsets(word):\n",
        "        # Get the definition and examples of the sense\n",
        "        signature = set(word_tokenize(sense.definition()))\n",
        "        for example in sense.examples():\n",
        "            signature.update(word_tokenize(example))\n",
        "\n",
        "        # Compute the overlap between the context and the signature\n",
        "        overlap = len(context.intersection(signature))\n",
        "\n",
        "        if overlap > max_overlap:\n",
        "            max_overlap = overlap\n",
        "            best_sense = sense\n",
        "\n",
        "    return best_sense\n",
        "\n",
        "# Sample sentence and word to disambiguate\n",
        "sentence = \"I went to the bank to deposit my money.\"\n",
        "word = \"bank\"\n",
        "\n",
        "# Run Lesk algorithm\n",
        "best_sense = lesk_algorithm(word, sentence)\n",
        "\n",
        "# Print the results\n",
        "if best_sense:\n",
        "    print(f\"Best sense for word '{word}':\")\n",
        "    print(f\"Sense: {best_sense.name()}\")\n",
        "    print(f\"Definition: {best_sense.definition()}\")\n",
        "else:\n",
        "    print(f\"No sense found for the word '{word}' in the given context.\")"
      ],
      "metadata": {
        "colab": {
          "base_uri": "https://localhost:8080/"
        },
        "id": "-aO22mbR74hj",
        "outputId": "6186da5d-c5a3-4890-d07c-c1b841495e27"
      },
      "execution_count": null,
      "outputs": [
        {
          "output_type": "stream",
          "name": "stdout",
          "text": [
            "Best sense for word 'bank':\n",
            "Sense: depository_financial_institution.n.01\n",
            "Definition: a financial institution that accepts deposits and channels the money into lending activities\n"
          ]
        }
      ]
    },
    {
      "cell_type": "markdown",
      "source": [
        "* Using WordNet or a standard reference dictionary, tag each open-class word in your\n",
        "corpus with its correct tag."
      ],
      "metadata": {
        "id": "csEIF2xA8e5D"
      }
    },
    {
      "cell_type": "code",
      "source": [
        "def get_wordnet_pos(treebank_tag):\n",
        "    \"\"\"Convert POS tag to WordNet POS tag.\"\"\"\n",
        "    if treebank_tag.startswith('J'):\n",
        "        return wn.ADJ\n",
        "    elif treebank_tag.startswith('V'):\n",
        "        return wn.VERB\n",
        "    elif treebank_tag.startswith('N'):\n",
        "        return wn.NOUN\n",
        "    elif treebank_tag.startswith('R'):\n",
        "        return wn.ADV\n",
        "    else:\n",
        "        return None\n",
        "\n",
        "def lesk_algorithm(word, sentence):\n",
        "    \"\"\"Apply the Lesk algorithm to find the best sense of a word in a given context.\"\"\"\n",
        "    best_sense = None\n",
        "    max_overlap = 0\n",
        "    context = set(word_tokenize(sentence))\n",
        "\n",
        "    for sense in wn.synsets(word):\n",
        "        # Get the definition and examples of the sense\n",
        "        signature = set(word_tokenize(sense.definition()))\n",
        "        for example in sense.examples():\n",
        "            signature.update(word_tokenize(example))\n",
        "\n",
        "        # Compute the overlap between the context and the signature\n",
        "        overlap = len(context.intersection(signature))\n",
        "\n",
        "        if overlap > max_overlap:\n",
        "            max_overlap = overlap\n",
        "            best_sense = sense\n",
        "\n",
        "    return best_sense\n",
        "\n",
        "def tag_open_class_words(sentence):\n",
        "    \"\"\"Tag open-class words in the sentence with their correct WordNet sense.\"\"\"\n",
        "    tokens = word_tokenize(sentence)\n",
        "    tagged_tokens = pos_tag(tokens)\n",
        "\n",
        "    tagged_sentence = []\n",
        "\n",
        "    for word, tag in tagged_tokens:\n",
        "        wn_tag = get_wordnet_pos(tag)\n",
        "        if wn_tag:  # If it's an open-class word\n",
        "            sense = lesk_algorithm(word, sentence)\n",
        "            if sense:\n",
        "                tagged_sentence.append((word, sense.name()))\n",
        "            else:\n",
        "                tagged_sentence.append((word, \"No sense found\"))\n",
        "        else:\n",
        "            tagged_sentence.append((word, \"Not an open-class word\"))\n",
        "\n",
        "    return tagged_sentence\n",
        "\n",
        "# Sample corpus\n",
        "sentences = [\n",
        "    \"The stock market closed higher today.\",\n",
        "    \"The president announced new policies during the press conference.\",\n",
        "    \"Investors are optimistic about the company's future performance.\",\n",
        "    \"The weather was unusually warm for this time of year.\",\n",
        "    \"He quickly adapted to the fast-paced environment.\"\n",
        "]\n",
        "\n",
        "# Tag each sentence\n",
        "for sentence in sentences:\n",
        "    print(f\"Sentence: '{sentence}'\")\n",
        "    tagged_sentence = tag_open_class_words(sentence)\n",
        "    for word, tag in tagged_sentence:\n",
        "        print(f\"Word: '{word}' | Tag: {tag}\")\n",
        "    print(\"\\n\" + \"-\"*50 + \"\\n\")\n"
      ],
      "metadata": {
        "colab": {
          "base_uri": "https://localhost:8080/"
        },
        "id": "0c_5_sfG8ZbY",
        "outputId": "b0229b0b-a81a-4633-cff1-a3ece1a327c0"
      },
      "execution_count": null,
      "outputs": [
        {
          "output_type": "stream",
          "name": "stdout",
          "text": [
            "Sentence: 'The stock market closed higher today.'\n",
            "Word: 'The' | Tag: Not an open-class word\n",
            "Word: 'stock' | Tag: broth.n.01\n",
            "Word: 'market' | Tag: market.n.01\n",
            "Word: 'closed' | Tag: close.v.07\n",
            "Word: 'higher' | Tag: higher.s.01\n",
            "Word: 'today' | Tag: today.n.01\n",
            "Word: '.' | Tag: Not an open-class word\n",
            "\n",
            "--------------------------------------------------\n",
            "\n",
            "Sentence: 'The president announced new policies during the press conference.'\n",
            "Word: 'The' | Tag: Not an open-class word\n",
            "Word: 'president' | Tag: president_of_the_united_states.n.01\n",
            "Word: 'announced' | Tag: announce.v.03\n",
            "Word: 'new' | Tag: new.a.01\n",
            "Word: 'policies' | Tag: policy.n.01\n",
            "Word: 'during' | Tag: Not an open-class word\n",
            "Word: 'the' | Tag: Not an open-class word\n",
            "Word: 'press' | Tag: imperativeness.n.01\n",
            "Word: 'conference' | Tag: No sense found\n",
            "Word: '.' | Tag: Not an open-class word\n",
            "\n",
            "--------------------------------------------------\n",
            "\n",
            "Sentence: 'Investors are optimistic about the company's future performance.'\n",
            "Word: 'Investors' | Tag: No sense found\n",
            "Word: 'are' | Tag: be.v.02\n",
            "Word: 'optimistic' | Tag: optimistic.a.01\n",
            "Word: 'about' | Tag: Not an open-class word\n",
            "Word: 'the' | Tag: Not an open-class word\n",
            "Word: 'company' | Tag: company.n.01\n",
            "Word: ''s' | Tag: Not an open-class word\n",
            "Word: 'future' | Tag: future.n.02\n",
            "Word: 'performance' | Tag: performance.n.02\n",
            "Word: '.' | Tag: Not an open-class word\n",
            "\n",
            "--------------------------------------------------\n",
            "\n",
            "Sentence: 'The weather was unusually warm for this time of year.'\n",
            "Word: 'The' | Tag: Not an open-class word\n",
            "Word: 'weather' | Tag: weather.n.01\n",
            "Word: 'was' | Tag: constitute.v.01\n",
            "Word: 'unusually' | Tag: unusually.r.01\n",
            "Word: 'warm' | Tag: warm.s.09\n",
            "Word: 'for' | Tag: Not an open-class word\n",
            "Word: 'this' | Tag: Not an open-class word\n",
            "Word: 'time' | Tag: time.n.03\n",
            "Word: 'of' | Tag: Not an open-class word\n",
            "Word: 'year' | Tag: year.n.02\n",
            "Word: '.' | Tag: Not an open-class word\n",
            "\n",
            "--------------------------------------------------\n",
            "\n",
            "Sentence: 'He quickly adapted to the fast-paced environment.'\n",
            "Word: 'He' | Tag: Not an open-class word\n",
            "Word: 'quickly' | Tag: quickly.r.01\n",
            "Word: 'adapted' | Tag: adapted.s.01\n",
            "Word: 'to' | Tag: Not an open-class word\n",
            "Word: 'the' | Tag: Not an open-class word\n",
            "Word: 'fast-paced' | Tag: fast-paced.s.01\n",
            "Word: 'environment' | Tag: environment.n.01\n",
            "Word: '.' | Tag: Not an open-class word\n",
            "\n",
            "--------------------------------------------------\n",
            "\n"
          ]
        }
      ]
    },
    {
      "cell_type": "code",
      "source": [],
      "metadata": {
        "id": "9kItIgxt9KsW"
      },
      "execution_count": null,
      "outputs": []
    }
  ]
}